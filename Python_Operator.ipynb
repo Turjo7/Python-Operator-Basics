{
  "nbformat": 4,
  "nbformat_minor": 0,
  "metadata": {
    "colab": {
      "name": "Python Operator.ipynb",
      "provenance": []
    },
    "kernelspec": {
      "name": "python3",
      "display_name": "Python 3"
    }
  },
  "cells": [
    {
      "cell_type": "code",
      "metadata": {
        "id": "ENU56y0LRnAo",
        "colab_type": "code",
        "colab": {
          "base_uri": "https://localhost:8080/",
          "height": 34
        },
        "outputId": "3d308f7d-6576-4e0b-8f6a-4293fbde06a1"
      },
      "source": [
        "print(11%3)"
      ],
      "execution_count": 1,
      "outputs": [
        {
          "output_type": "stream",
          "text": [
            "2\n"
          ],
          "name": "stdout"
        }
      ]
    },
    {
      "cell_type": "code",
      "metadata": {
        "id": "bdWNTAo_R1ZP",
        "colab_type": "code",
        "colab": {
          "base_uri": "https://localhost:8080/",
          "height": 34
        },
        "outputId": "026a12b8-1b42-4d2e-88ab-68692b68f0e1"
      },
      "source": [
        "x=3\n",
        "y=5\n",
        "x+=y\n",
        "print(x)"
      ],
      "execution_count": 2,
      "outputs": [
        {
          "output_type": "stream",
          "text": [
            "8\n"
          ],
          "name": "stdout"
        }
      ]
    },
    {
      "cell_type": "code",
      "metadata": {
        "id": "Vw-UYvIWR-jV",
        "colab_type": "code",
        "colab": {
          "base_uri": "https://localhost:8080/",
          "height": 34
        },
        "outputId": "0e5790ae-8b10-4cdb-f2c2-f5988fa94d81"
      },
      "source": [
        "x=3\n",
        "y=5\n",
        "x-=y\n",
        "print(x)"
      ],
      "execution_count": 6,
      "outputs": [
        {
          "output_type": "stream",
          "text": [
            "-2\n"
          ],
          "name": "stdout"
        }
      ]
    },
    {
      "cell_type": "code",
      "metadata": {
        "id": "V5QthUuASaPd",
        "colab_type": "code",
        "colab": {
          "base_uri": "https://localhost:8080/",
          "height": 34
        },
        "outputId": "33a26222-ebcb-4e48-b936-138db83f4715"
      },
      "source": [
        "x=3\n",
        "y=5\n",
        "x*=y\n",
        "print(x)"
      ],
      "execution_count": 7,
      "outputs": [
        {
          "output_type": "stream",
          "text": [
            "15\n"
          ],
          "name": "stdout"
        }
      ]
    },
    {
      "cell_type": "code",
      "metadata": {
        "id": "XzffZTqASejX",
        "colab_type": "code",
        "colab": {
          "base_uri": "https://localhost:8080/",
          "height": 34
        },
        "outputId": "6c4201f3-5b5d-4c43-ccc9-c67414cf3cef"
      },
      "source": [
        "x=3\n",
        "y=5\n",
        "x/=y\n",
        "print(x)"
      ],
      "execution_count": 8,
      "outputs": [
        {
          "output_type": "stream",
          "text": [
            "0.6\n"
          ],
          "name": "stdout"
        }
      ]
    },
    {
      "cell_type": "code",
      "metadata": {
        "id": "zX63QAqlSzSX",
        "colab_type": "code",
        "colab": {
          "base_uri": "https://localhost:8080/",
          "height": 34
        },
        "outputId": "f20cf876-84ff-47e2-bc45-81d749cd106a"
      },
      "source": [
        "x=11\n",
        "y=3\n",
        "x%=y\n",
        "print(x)"
      ],
      "execution_count": 9,
      "outputs": [
        {
          "output_type": "stream",
          "text": [
            "2\n"
          ],
          "name": "stdout"
        }
      ]
    },
    {
      "cell_type": "code",
      "metadata": {
        "id": "TMgOYRgUS6sO",
        "colab_type": "code",
        "colab": {
          "base_uri": "https://localhost:8080/",
          "height": 34
        },
        "outputId": "f153d5bc-c40b-4f43-8f5b-a3b1855adde2"
      },
      "source": [
        "#Exponent\n",
        "x=2\n",
        "y=3\n",
        "x**=y\n",
        "print(x)"
      ],
      "execution_count": 10,
      "outputs": [
        {
          "output_type": "stream",
          "text": [
            "8\n"
          ],
          "name": "stdout"
        }
      ]
    },
    {
      "cell_type": "code",
      "metadata": {
        "id": "mKPuEcuDS_Ga",
        "colab_type": "code",
        "colab": {
          "base_uri": "https://localhost:8080/",
          "height": 34
        },
        "outputId": "b773dcb3-5f0f-415e-e347-ff198d5ebf8c"
      },
      "source": [
        "#Flore Division\n",
        "x=7\n",
        "y=2\n",
        "x//=y\n",
        "print(x)"
      ],
      "execution_count": 11,
      "outputs": [
        {
          "output_type": "stream",
          "text": [
            "3\n"
          ],
          "name": "stdout"
        }
      ]
    },
    {
      "cell_type": "code",
      "metadata": {
        "id": "6kFVj7ALWEuH",
        "colab_type": "code",
        "colab": {
          "base_uri": "https://localhost:8080/",
          "height": 51
        },
        "outputId": "d12f6ac7-da62-423d-b4a9-d8c8acd8ca49"
      },
      "source": [
        "a = 9\n",
        "b = 10\n",
        "c = a&b\n",
        "print((c))\n",
        "print(bin(c))\n"
      ],
      "execution_count": 14,
      "outputs": [
        {
          "output_type": "stream",
          "text": [
            "8\n",
            "0b1000\n"
          ],
          "name": "stdout"
        }
      ]
    },
    {
      "cell_type": "code",
      "metadata": {
        "id": "3-4XmbJLWPcH",
        "colab_type": "code",
        "colab": {
          "base_uri": "https://localhost:8080/",
          "height": 51
        },
        "outputId": "a9a537bc-ddaa-4099-aeeb-dae23cd70366"
      },
      "source": [
        "a = 9\n",
        "b = 10\n",
        "c = a|b\n",
        "print((c))\n",
        "print(bin(c))"
      ],
      "execution_count": 15,
      "outputs": [
        {
          "output_type": "stream",
          "text": [
            "11\n",
            "0b1011\n"
          ],
          "name": "stdout"
        }
      ]
    },
    {
      "cell_type": "code",
      "metadata": {
        "id": "tumsGQixWUEz",
        "colab_type": "code",
        "colab": {
          "base_uri": "https://localhost:8080/",
          "height": 51
        },
        "outputId": "e686b4d2-ad1d-4af8-ca07-e09c3c321cc8"
      },
      "source": [
        "a = 9\n",
        "b = 10\n",
        "c = a^b\n",
        "print((c))\n",
        "print(bin(c))"
      ],
      "execution_count": 16,
      "outputs": [
        {
          "output_type": "stream",
          "text": [
            "3\n",
            "0b11\n"
          ],
          "name": "stdout"
        }
      ]
    },
    {
      "cell_type": "code",
      "metadata": {
        "id": "FnYRgGdkWbSj",
        "colab_type": "code",
        "colab": {
          "base_uri": "https://localhost:8080/",
          "height": 34
        },
        "outputId": "053d02b7-25e2-4906-a90d-67ff1150b7ca"
      },
      "source": [
        "a = 9\n",
        "c = ~a\n",
        "print(bin(c))"
      ],
      "execution_count": 17,
      "outputs": [
        {
          "output_type": "stream",
          "text": [
            "-0b1010\n"
          ],
          "name": "stdout"
        }
      ]
    },
    {
      "cell_type": "code",
      "metadata": {
        "id": "HJEEJNAaWfJI",
        "colab_type": "code",
        "colab": {
          "base_uri": "https://localhost:8080/",
          "height": 51
        },
        "outputId": "6f8bf6bd-c0d6-41d2-b4eb-fcaace2ca46e"
      },
      "source": [
        "#Binary Left Shift\n",
        "a = 9\n",
        "c = c<<2\n",
        "print((c))\n",
        "print(bin(c))"
      ],
      "execution_count": 28,
      "outputs": [
        {
          "output_type": "stream",
          "text": [
            "-8\n",
            "-0b1000\n"
          ],
          "name": "stdout"
        }
      ]
    },
    {
      "cell_type": "code",
      "metadata": {
        "id": "HEzpRoUsXZQ-",
        "colab_type": "code",
        "colab": {
          "base_uri": "https://localhost:8080/",
          "height": 51
        },
        "outputId": "864493d6-5d02-487e-b254-ccff6fd5f8c4"
      },
      "source": [
        "#Binary Right Shift\n",
        "a = 9\n",
        "c = c>>2\n",
        "print((c))\n",
        "print(bin(c))"
      ],
      "execution_count": 29,
      "outputs": [
        {
          "output_type": "stream",
          "text": [
            "-2\n",
            "-0b10\n"
          ],
          "name": "stdout"
        }
      ]
    },
    {
      "cell_type": "code",
      "metadata": {
        "id": "dvG8fYRPX9nh",
        "colab_type": "code",
        "colab": {
          "base_uri": "https://localhost:8080/",
          "height": 34
        },
        "outputId": "ba5feda0-9338-494b-8d41-48ad1423e50f"
      },
      "source": [
        "#List Manipulation\n",
        "list=[1,2,3,4,5,6]\n",
        "if(2 in list):\n",
        "  print(\"2 exist in the list\")\n",
        "else:\n",
        "    print(\"2 does not exist in the list\")"
      ],
      "execution_count": 31,
      "outputs": [
        {
          "output_type": "stream",
          "text": [
            "2 exist in the list\n"
          ],
          "name": "stdout"
        }
      ]
    },
    {
      "cell_type": "code",
      "metadata": {
        "id": "grXsGEUIY5iW",
        "colab_type": "code",
        "colab": {
          "base_uri": "https://localhost:8080/",
          "height": 34
        },
        "outputId": "6123fada-a865-45da-c4f5-8cb634eff953"
      },
      "source": [
        "#List Manipulation\n",
        "list=[1,2,3,4,5,6]\n",
        "if(20 in list):\n",
        "  print(\"20 exist in the list\")\n",
        "else:\n",
        "    print(\"20 does not exist in the list\")"
      ],
      "execution_count": 32,
      "outputs": [
        {
          "output_type": "stream",
          "text": [
            "20 does not exist in the list\n"
          ],
          "name": "stdout"
        }
      ]
    },
    {
      "cell_type": "code",
      "metadata": {
        "id": "rjUClzBhY84V",
        "colab_type": "code",
        "colab": {
          "base_uri": "https://localhost:8080/",
          "height": 34
        },
        "outputId": "2ce743ee-9298-403d-e2ad-80e7942d168f"
      },
      "source": [
        "a = 20\n",
        "b = 20\n",
        " \n",
        "if ( a is b ):\n",
        "    print (\"a and b have same identity\")\n",
        "else:\n",
        "    print (\"a and b do not have same identity\")"
      ],
      "execution_count": 33,
      "outputs": [
        {
          "output_type": "stream",
          "text": [
            "a and b have same identity\n"
          ],
          "name": "stdout"
        }
      ]
    },
    {
      "cell_type": "code",
      "metadata": {
        "id": "qkdXBaaEZK7T",
        "colab_type": "code",
        "colab": {
          "base_uri": "https://localhost:8080/",
          "height": 34
        },
        "outputId": "4baf0d98-f313-4f10-987c-8b071e21df28"
      },
      "source": [
        "a = 20\n",
        "b = 21\n",
        " \n",
        "if ( a is not b ):\n",
        "   print (\"a and b have different identity\")\n",
        "else:\n",
        "   print (\"a and b do have same identity\")"
      ],
      "execution_count": 34,
      "outputs": [
        {
          "output_type": "stream",
          "text": [
            "a and b have different identity\n"
          ],
          "name": "stdout"
        }
      ]
    }
  ]
}